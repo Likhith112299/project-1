{
 "cells": [
  {
   "cell_type": "code",
   "execution_count": 0,
   "metadata": {
    "application/vnd.databricks.v1+cell": {
     "cellMetadata": {
      "byteLimit": 2048000,
      "rowLimit": 10000
     },
     "inputWidgets": {},
     "nuid": "6c2dab03-1ad9-425f-94ff-76d41e3162c3",
     "showTitle": false,
     "title": ""
    }
   },
   "outputs": [
    {
     "output_type": "display_data",
     "data": {
      "text/html": [
       "<style scoped>\n",
       "  .table-result-container {\n",
       "    max-height: 300px;\n",
       "    overflow: auto;\n",
       "  }\n",
       "  table, th, td {\n",
       "    border: 1px solid black;\n",
       "    border-collapse: collapse;\n",
       "  }\n",
       "  th, td {\n",
       "    padding: 5px;\n",
       "  }\n",
       "  th {\n",
       "    text-align: left;\n",
       "  }\n",
       "</style><div class='table-result-container'><table class='table-result'><thead style='background-color: white'><tr><th>path</th><th>name</th><th>size</th><th>modificationTime</th></tr></thead><tbody><tr><td>dbfs:/mnt/shop/gold-layer/</td><td>gold-layer/</td><td>0</td><td>1727800356000</td></tr><tr><td>dbfs:/mnt/shop/raw-data/</td><td>raw-data/</td><td>0</td><td>1727792291000</td></tr><tr><td>dbfs:/mnt/shop/silver-layer/</td><td>silver-layer/</td><td>0</td><td>1727799947000</td></tr></tbody></table></div>"
      ]
     },
     "metadata": {
      "application/vnd.databricks.v1+output": {
       "addedWidgets": {},
       "aggData": [],
       "aggError": "",
       "aggOverflow": false,
       "aggSchema": [],
       "aggSeriesLimitReached": false,
       "aggType": "",
       "arguments": {},
       "columnCustomDisplayInfos": {},
       "data": [
        [
         "dbfs:/mnt/shop/gold-layer/",
         "gold-layer/",
         0,
         1727800356000
        ],
        [
         "dbfs:/mnt/shop/raw-data/",
         "raw-data/",
         0,
         1727792291000
        ],
        [
         "dbfs:/mnt/shop/silver-layer/",
         "silver-layer/",
         0,
         1727799947000
        ]
       ],
       "datasetInfos": [],
       "dbfsResultPath": null,
       "isJsonSchema": true,
       "metadata": {
        "isDbfsCommandResult": false
       },
       "overflow": false,
       "plotOptions": {
        "customPlotOptions": {},
        "displayType": "table",
        "pivotAggregation": null,
        "pivotColumns": null,
        "xColumns": null,
        "yColumns": null
       },
       "removedWidgets": [],
       "schema": [
        {
         "metadata": "{}",
         "name": "path",
         "type": "\"string\""
        },
        {
         "metadata": "{}",
         "name": "name",
         "type": "\"string\""
        },
        {
         "metadata": "{}",
         "name": "size",
         "type": "\"long\""
        },
        {
         "metadata": "{}",
         "name": "modificationTime",
         "type": "\"long\""
        }
       ],
       "type": "table"
      }
     },
     "output_type": "display_data"
    }
   ],
   "source": [
    "%fs\n",
    "ls \"/mnt/shop\""
   ]
  },
  {
   "cell_type": "code",
   "execution_count": 0,
   "metadata": {
    "application/vnd.databricks.v1+cell": {
     "cellMetadata": {
      "byteLimit": 2048000,
      "rowLimit": 10000
     },
     "inputWidgets": {},
     "nuid": "a1541bdd-bc42-4a19-88fb-38f562d8fd53",
     "showTitle": false,
     "title": ""
    }
   },
   "outputs": [],
   "source": [
    "Customer = spark.read.format(\"csv\").option(\"header\", \"true\").option(\"inferSchema\", \"true\").load(\"/mnt/shop/silver-layer/Customer.csv\")\n",
    "Generations = spark.read.format(\"csv\").option(\"header\", \"true\").option(\"inferSchema\", \"true\").load(\"/mnt/shop/silver-layer/Generations.csv\")\n",
    "Inventory = spark.read.format(\"csv\").option(\"header\", \"true\").option(\"inferSchema\", \"true\").load(\"/mnt/shop/silver-layer/Inventory.csv\")\n",
    "Product = spark.read.format(\"csv\").option(\"header\", \"true\").option(\"inferSchema\", \"true\").load(\"/mnt/shop/silver-layer/Product.csv\")\n",
    "SalesOrders = spark.read.format(\"csv\").option(\"header\", \"true\").option(\"inferSchema\", \"true\").load(\"/mnt/shop/silver-layer/SalesOrders.csv\")\n",
    "SalesOutlet = spark.read.format(\"csv\").option(\"header\", \"true\").option(\"inferSchema\", \"true\").load(\"/mnt/shop/silver-layer/SalesOutlet.csv\")\n",
    "SalesTarget = spark.read.format(\"csv\").option(\"header\", \"true\").option(\"inferSchema\", \"true\").load(\"/mnt/shop/silver-layer/SalesTarget.csv\")\n",
    "Staff = spark.read.format(\"csv\").option(\"header\", \"true\").option(\"inferSchema\", \"true\").load(\"/mnt/shop/silver-layer/staff.csv\")"
   ]
  },
  {
   "cell_type": "code",
   "execution_count": 0,
   "metadata": {
    "application/vnd.databricks.v1+cell": {
     "cellMetadata": {
      "byteLimit": 2048000,
      "rowLimit": 10000
     },
     "inputWidgets": {},
     "nuid": "05ad12b3-7e6a-443d-af3e-3f3a80444958",
     "showTitle": true,
     "title": "Creating Temp Views"
    }
   },
   "outputs": [],
   "source": [
    "Customer.createOrReplaceTempView(\"Customer\")\n",
    "Generations.createOrReplaceTempView(\"Generations\")\n",
    "Inventory.createOrReplaceTempView(\"Inventory\")\n",
    "Product.createOrReplaceTempView(\"Product\")\n",
    "SalesOrders.createOrReplaceTempView(\"SalesOrders\")\n",
    "SalesOutlet.createOrReplaceTempView(\"SalesOutlet\")\n",
    "SalesTarget.createOrReplaceTempView(\"SalesTarget\")\n",
    "Staff.createOrReplaceTempView(\"Staff\")"
   ]
  },
  {
   "cell_type": "code",
   "execution_count": 0,
   "metadata": {
    "application/vnd.databricks.v1+cell": {
     "cellMetadata": {
      "byteLimit": 2048000,
      "rowLimit": 10000
     },
     "inputWidgets": {},
     "nuid": "c31babc8-9241-45cf-9b28-ff8cd985dad7",
     "showTitle": false,
     "title": ""
    }
   },
   "outputs": [
    {
     "output_type": "stream",
     "name": "stdout",
     "output_type": "stream",
     "text": [
      "+-----------+----------+------------------+--------------+------+----------+------------+\n|customer_id|home_store|        first_name|customer_since|gender|birth_year|  generation|\n+-----------+----------+------------------+--------------+------+----------+------------+\n|          1|         3|         Kelly Key|    2017-01-04|     M|      1950|Baby Boomers|\n|          2|         3|   Clark Schroeder|    2017-01-07|     M|      1950|Baby Boomers|\n|          3|         3|    Elvis Cardenas|    2017-01-10|     M|      1950|Baby Boomers|\n|          4|         3|      Rafael Estes|    2017-01-13|     M|      1950|Baby Boomers|\n|          5|         3|        Colin Lynn|    2017-01-15|     M|      1951|Baby Boomers|\n|          6|         3|        Igor Beach|    2017-01-18|     M|      1951|Baby Boomers|\n|          7|         3|      Scott Holden|    2017-01-21|     M|      1951|Baby Boomers|\n|          8|         3|      Keegan Ayala|    2017-01-24|     M|      1951|Baby Boomers|\n|          9|         3|        Amir Byers|    2017-01-26|     M|      1951|Baby Boomers|\n|         10|         3|      Magee Malone|    2017-01-29|     M|      1951|Baby Boomers|\n|         11|         3|       Dolan Petty|    2017-02-01|     M|      1952|Baby Boomers|\n|         12|         3|       Wang Hebert|    2017-02-04|     M|      1952|Baby Boomers|\n|         13|         3|       Wayne David|    2017-02-06|     M|      1952|Baby Boomers|\n|         14|         3|   Colin Fernandez|    2017-02-09|     M|      1952|Baby Boomers|\n|         15|         3|Holmes Blankenship|    2017-02-12|     M|      1952|Baby Boomers|\n|         16|         3|        Ali French|    2017-02-15|     M|      1952|Baby Boomers|\n|         17|         3|     Josiah Burton|    2017-02-17|     M|      1953|Baby Boomers|\n|         18|         3|      Drew Skinner|    2017-02-20|     M|      1953|Baby Boomers|\n|         19|         3|      Henry Wilcox|    2017-02-23|     M|      1953|Baby Boomers|\n|         20|         3|      Nathan Riggs|    2017-02-26|     M|      1953|Baby Boomers|\n+-----------+----------+------------------+--------------+------+----------+------------+\nonly showing top 20 rows\n\n"
     ]
    }
   ],
   "source": [
    "Customer_Dim = spark.sql(\"\"\"SELECT \n",
    "                                c.customer_id, c.home_store, c.First_Name as first_name, c.customer_since, c.gender, c.birth_year,g.generation\n",
    "                            FROM \n",
    "                                Customer c JOIN Generations g\n",
    "                            ON c.birth_year = g.birth_year \"\"\")\n",
    "\n",
    "Customer_Dim.show()"
   ]
  },
  {
   "cell_type": "code",
   "execution_count": 0,
   "metadata": {
    "application/vnd.databricks.v1+cell": {
     "cellMetadata": {
      "byteLimit": 2048000,
      "rowLimit": 10000
     },
     "inputWidgets": {},
     "nuid": "b4c3b3ce-81c6-40ff-9405-450748169bab",
     "showTitle": false,
     "title": ""
    }
   },
   "outputs": [
    {
     "output_type": "stream",
     "name": "stdout",
     "output_type": "stream",
     "text": [
      "+--------------+----------------+---------+-----------+--------+----------+--------+-----------------+----------+\n|transaction_id|transaction_date|outlet_id|customer_id|staff_id|product_id|quantity|       unit_price|instore_yn|\n+--------------+----------------+---------+-----------+--------+----------+--------+-----------------+----------+\n|        2069.0|      2019-04-22|      3.0|      247.0|    20.0|      28.0|     1.0|              2.0|     false|\n|        1886.0|      2019-04-06|      5.0|     5879.0|    26.0|      33.0|     2.0|              3.5|      true|\n|         590.0|      2019-04-22|      8.0|        0.0|    44.0|      45.0|     2.0|              3.0|      true|\n|        1392.0|      2019-04-25|      8.0|        0.0|    44.0|      25.0|     1.0|2.200000047683716|      true|\n|        1139.0|      2019-04-03|      5.0|     5126.0|    12.0|      47.0|     2.0|              3.0|      true|\n|         968.0|      2019-04-26|      3.0|        0.0|    20.0|      50.0|     1.0|              2.5|      true|\n|         208.0|      2019-04-08|      3.0|        0.0|     8.0|      71.0|     1.0|             3.75|      true|\n|        1779.0|      2019-04-16|      8.0|        0.0|    43.0|      58.0|     2.0|              3.5|      true|\n|         344.0|      2019-04-12|      5.0|     5879.0|    29.0|      50.0|     1.0|              2.5|      true|\n|        2506.0|      2019-04-03|      3.0|      548.0|    12.0|      27.0|     2.0|              3.5|      true|\n|        1083.0|      2019-04-27|      3.0|        0.0|    14.0|      31.0|     2.0|2.200000047683716|      true|\n|         722.0|      2019-04-03|      3.0|      642.0|    12.0|      23.0|     1.0|              2.5|     false|\n|        1382.0|      2019-04-15|      8.0|        0.0|     6.0|      56.0|     2.0|2.549999952316284|      true|\n|        1677.0|      2019-04-24|      8.0|     8488.0|    45.0|      34.0|     1.0|2.450000047683716|     false|\n|          60.0|      2019-04-24|      3.0|        0.0|    20.0|      36.0|     2.0|             3.75|      true|\n|         510.0|      2019-04-21|      5.0|        0.0|     7.0|      33.0|     1.0|              3.5|     false|\n|        1783.0|      2019-04-19|      3.0|       66.0|    17.0|      58.0|     2.0|              3.5|      true|\n|        1218.0|      2019-04-28|      3.0|        0.0|    14.0|      47.0|     1.0|              3.0|      true|\n|         940.0|      2019-04-02|      3.0|      209.0|    12.0|      36.0|     2.0|             3.75|     false|\n|         285.0|      2019-04-08|      3.0|        0.0|    10.0|      55.0|     2.0|              4.0|      true|\n+--------------+----------------+---------+-----------+--------+----------+--------+-----------------+----------+\nonly showing top 20 rows\n\n"
     ]
    }
   ],
   "source": [
    "Sales_fact = spark.sql(\"\"\"\n",
    "SELECT  \n",
    "    transaction_id, transaction_date, outlet_id, customer_id, staff_id,\n",
    "    product_id, quantity, unit_price\n",
    "FROM SalesOrders \n",
    "\"\"\")\n",
    "\n",
    "Sales_fact.show()\n"
   ]
  },
  {
   "cell_type": "code",
   "execution_count": 0,
   "metadata": {
    "application/vnd.databricks.v1+cell": {
     "cellMetadata": {
      "byteLimit": 2048000,
      "rowLimit": 10000
     },
     "inputWidgets": {},
     "nuid": "7227204c-44f0-463e-abca-36bc9b47b77e",
     "showTitle": false,
     "title": ""
    }
   },
   "outputs": [
    {
     "output_type": "stream",
     "name": "stdout",
     "output_type": "stream",
     "text": [
      "+---------+----------------+------------------+------------------+-------+----------+-------------+---------+----------------+----------+\n|Outlet_ID|      store_city|   store_longitude|    store_latitude|manager|beans_goal|beverage_goal|food_goal|merchandise_goal|total_goal|\n+---------+----------------+------------------+------------------+-------+----------+-------------+---------+----------------+----------+\n|        3|Long Island City|-73.92401123046875| 40.76119613647461|    6.0|       720|        13500|     3420|             360|     18000|\n|        4|        Brooklyn| -73.9839859008789| 40.67764663696289|   11.0|       720|        13500|     3420|             360|     18000|\n|        5|        New York| -74.0101318359375| 40.71329116821289|   16.0|      1000|        18750|     4750|             500|     25000|\n|        6|        New York|-73.99268341064453| 40.71385192871094|   21.0|       720|        13500|     3420|             360|     18000|\n|        7|        New York|-73.95999908447266| 40.77000045776367|   26.0|       720|        13500|     3420|             360|     18000|\n|        8|        New York|-73.99034118652344| 40.76188659667969|   31.0|       900|        16875|     4275|             450|     22500|\n|        9|        New York|-74.00050354003906|40.742759704589844|   36.0|       720|        13500|     3420|             360|     18000|\n|       10|        New York|-74.00272369384766| 40.73436737060547|   41.0|       720|        13500|     3420|             360|     18000|\n+---------+----------------+------------------+------------------+-------+----------+-------------+---------+----------------+----------+\n\n"
     ]
    }
   ],
   "source": [
    "SalesOutlet_Dim = spark.sql(\"\"\"\n",
    "    SELECT \n",
    "        so.Outlet_ID, so.store_city, so.store_longitude, so.store_latitude, so.manager,\n",
    "        st.beans_goal, st.beverage_goal, st.food_goal, st.merchandise_goal, st.total_goal\n",
    "    FROM \n",
    "        SalesOutlet so JOIN SalesTarget st \n",
    "        ON so.Outlet_ID = st.Outlet_ID\n",
    "    WHERE Outlet_Type LIKE('retail')\n",
    "\"\"\")\n",
    "SalesOutlet_Dim.show()"
   ]
  },
  {
   "cell_type": "code",
   "execution_count": 0,
   "metadata": {
    "application/vnd.databricks.v1+cell": {
     "cellMetadata": {
      "byteLimit": 2048000,
      "implicitDf": true,
      "rowLimit": 10000
     },
     "inputWidgets": {},
     "nuid": "a59d2725-1ade-4ce9-a415-f2c47083b913",
     "showTitle": false,
     "title": ""
    }
   },
   "outputs": [
    {
     "output_type": "stream",
     "name": "stdout",
     "output_type": "stream",
     "text": [
      "+----------------+--------+---+----+-----+\n|transaction_date|day_name|day|week|third|\n+----------------+--------+---+----+-----+\n|      2019-04-01|     Mon|  1|   1|    1|\n|      2019-04-02|     Tue|  2|   1|    1|\n|      2019-04-03|     Wed|  3|   1|    1|\n|      2019-04-04|     Thu|  4|   1|    1|\n|      2019-04-05|     Fri|  5|   1|    1|\n|      2019-04-06|     Sat|  6|   1|    1|\n|      2019-04-07|     Sun|  7|   1|    1|\n|      2019-04-08|     Mon|  8|   2|    1|\n|      2019-04-09|     Tue|  9|   2|    1|\n|      2019-04-10|     Wed| 10|   2|    1|\n|      2019-04-11|     Thu| 11|   2|    2|\n|      2019-04-12|     Fri| 12|   2|    2|\n|      2019-04-13|     Sat| 13|   2|    2|\n|      2019-04-14|     Sun| 14|   2|    2|\n|      2019-04-15|     Mon| 15|   3|    2|\n|      2019-04-16|     Tue| 16|   3|    2|\n|      2019-04-17|     Wed| 17|   3|    2|\n|      2019-04-18|     Thu| 18|   3|    2|\n|      2019-04-19|     Fri| 19|   3|    2|\n|      2019-04-20|     Sat| 20|   3|    2|\n+----------------+--------+---+----+-----+\nonly showing top 20 rows\n\n"
     ]
    }
   ],
   "source": [
    "Dates_Dim = spark.sql(\"\"\"\n",
    "SELECT DISTINCT\n",
    "transaction_date, DATE_FORMAT(transaction_date, 'E') AS day_name,\n",
    "DAY(transaction_date) AS day,\n",
    "CASE\n",
    "    WHEN DAY(transaction_date) <= 7 THEN 1\n",
    "    WHEN DAY(transaction_date) <= 14 THEN 2\n",
    "    WHEN DAY(transaction_date) <= 21 THEN 3\n",
    "    ELSE 4\n",
    "END AS week,\n",
    "CASE \n",
    "    WHEN DAY(transaction_date) <= 10 THEN 1\n",
    "    WHEN DAY(transaction_date) <= 20 THEN 2\n",
    "    ELSE 3\n",
    "END AS third\n",
    "FROM SalesOrders\n",
    "where transaction_date is not NULL\n",
    "ORDER BY transaction_date\n",
    "\"\"\")\n",
    "\n",
    "Dates_Dim.show()"
   ]
  },
  {
   "cell_type": "code",
   "execution_count": 0,
   "metadata": {
    "application/vnd.databricks.v1+cell": {
     "cellMetadata": {
      "byteLimit": 2048000,
      "rowLimit": 10000
     },
     "inputWidgets": {},
     "nuid": "c6e05b3d-c408-4f26-bad4-f44b5bcb6a05",
     "showTitle": false,
     "title": ""
    }
   },
   "outputs": [
    {
     "output_type": "stream",
     "name": "stdout",
     "output_type": "stream",
     "text": [
      "+--------+----------+---------------+----------+--------+\n|staff_id|first_name|       position|work_since|location|\n+--------+----------+---------------+----------+--------+\n|       1|       Sue|            CFO|2001-08-03|      HQ|\n|       2|       Ian|            CEO|2001-08-03|      HQ|\n|       3|     Marny|        Roaster|2007-10-24|      WH|\n|       4|   Chelsea|        Roaster|2003-07-03|      WH|\n|       5|      Alec|        Roaster|2008-04-02|      WH|\n|       6|      Xena|  Store Manager|2016-07-24|       3|\n|       7|    Kelsey|Coffee Wrangler|2003-10-18|       3|\n|       8|  Hamilton|Coffee Wrangler|2005-02-09|       3|\n|       9|  Caldwell|Coffee Wrangler|2013-09-09|       3|\n|      10|       Ima|Coffee Wrangler|2016-12-10|       3|\n|      11|      Ruth|  Store Manager|2009-06-17|       4|\n|      12|  Britanni|Coffee Wrangler|2006-03-25|       4|\n|      13|      Berk|Coffee Wrangler|2009-12-11|       4|\n|      14|     Damon|Coffee Wrangler|2010-06-05|       4|\n|      15|  Remedios|Coffee Wrangler|2014-05-09|       4|\n|      16|      Reed|  Store Manager|2006-03-30|       5|\n|      17|     Quail|Coffee Wrangler|2014-12-05|       5|\n|      18|   Ezekiel|Coffee Wrangler|2005-11-13|       5|\n|      19|     Peter|Coffee Wrangler|2014-03-12|       5|\n|      20|     Ronan|Coffee Wrangler|2002-02-13|       5|\n+--------+----------+---------------+----------+--------+\nonly showing top 20 rows\n\n"
     ]
    }
   ],
   "source": [
    "Staff_Dim = spark.sql(\"\"\"\n",
    "SELECT \n",
    "    staff_id, first_name, position, start_date as work_since, location\n",
    "FROM Staff  \n",
    "\"\"\")\n",
    "\n",
    "Staff_Dim.show()"
   ]
  },
  {
   "cell_type": "code",
   "execution_count": 0,
   "metadata": {
    "application/vnd.databricks.v1+cell": {
     "cellMetadata": {
      "byteLimit": 2048000,
      "rowLimit": 10000
     },
     "inputWidgets": {},
     "nuid": "53db4601-c88c-41d7-b21c-a767ee403d1d",
     "showTitle": false,
     "title": ""
    }
   },
   "outputs": [
    {
     "output_type": "stream",
     "name": "stdout",
     "output_type": "stream",
     "text": [
      "+----------+---------------+------------------+------------------+------------------+------------+--------------+\n|product_id|       category|      sub_category|      product_type|   wholesale_price|retail_price|product_weight|\n+----------+---------------+------------------+------------------+------------------+------------+--------------+\n|         1|Whole Bean/Teas|      Coffee beans|     Organic Beans|14.399999618530273|        18.0|         12 oz|\n|         2|Whole Bean/Teas|      Coffee beans| House blend Beans|14.399999618530273|        18.0|         12 oz|\n|         3|Whole Bean/Teas|      Coffee beans|    Espresso Beans|11.800000190734863|       14.75|          1 lb|\n|         4|Whole Bean/Teas|      Coffee beans|    Espresso Beans|16.360000610351562|       20.45|          1 lb|\n|         5|Whole Bean/Teas|      Coffee beans|     Gourmet Beans|              12.0|        15.0|          1 lb|\n|         6|Whole Bean/Teas|      Coffee beans|     Gourmet Beans|16.799999237060547|        21.0|          1 lb|\n|         7|Whole Bean/Teas|      Coffee beans|     Premium Beans|15.800000190734863|       19.75|          1 lb|\n|         8|Whole Bean/Teas|      Coffee beans|     Premium Beans|              36.0|        45.0|         .5 lb|\n|         9|Whole Bean/Teas|      Coffee beans|     Organic Beans|              18.0|        22.5|          1 lb|\n|        10|Whole Bean/Teas|      Coffee beans|       Green beans|               8.0|        10.0|          1 lb|\n|        11|Whole Bean/Teas|         Loose Tea|        Herbal tea| 7.159999847412109|        8.95|         .9 oz|\n|        12|Whole Bean/Teas|         Loose Tea|        Herbal tea| 7.159999847412109|        8.95|         .9 oz|\n|        13|Whole Bean/Teas|         Loose Tea|         Black tea| 7.159999847412109|        8.95|         .9 oz|\n|        14|Whole Bean/Teas|         Loose Tea|         Black tea| 7.159999847412109|        8.95|         .9 oz|\n|        15|Whole Bean/Teas|         Loose Tea|         Green tea| 7.400000095367432|        9.25|          1 oz|\n|        16|Whole Bean/Teas|         Loose Tea|          Chai tea| 7.159999847412109|        8.95|         .9 oz|\n|        17|Whole Bean/Teas|         Loose Tea|          Chai tea| 7.599999904632568|         9.5|         .9 oz|\n|        18|Whole Bean/Teas|         Loose Tea|          Chai tea| 8.760000228881836|       10.95|         .9 oz|\n|        19|Whole Bean/Teas|Packaged Chocolate|Drinking Chocolate| 5.119999885559082|         6.4|          1 lb|\n|        20|Whole Bean/Teas|Packaged Chocolate| Organic Chocolate| 6.079999923706055|         7.6|          1 lb|\n+----------+---------------+------------------+------------------+------------------+------------+--------------+\nonly showing top 20 rows\n\n"
     ]
    }
   ],
   "source": [
    "Product_Dim = spark.sql(\"\"\"\n",
    "SELECT \n",
    "    product_id,category, sub_category,product_type,\n",
    "    wholesale_price, retail_price, product_weight\n",
    "FROM Product\n",
    "\"\"\")\n",
    "\n",
    "Product_Dim.show()"
   ]
  },
  {
   "cell_type": "code",
   "execution_count": 0,
   "metadata": {
    "application/vnd.databricks.v1+cell": {
     "cellMetadata": {
      "byteLimit": 2048000,
      "rowLimit": 10000
     },
     "inputWidgets": {},
     "nuid": "92389762-66d8-470e-9a5a-349fca113445",
     "showTitle": false,
     "title": ""
    }
   },
   "outputs": [],
   "source": [
    "Product_Dim.toPandas().to_csv(\"/dbfs/mnt/shop/gold-layer/Product_Dim.csv\", index = False)\n",
    "Staff_Dim.toPandas().to_csv(\"/dbfs/mnt/shop/gold-layer/Staff_Dim.csv\", index = False)\n",
    "SalesOutlet_Dim.toPandas().to_csv(\"/dbfs/mnt/shop/gold-layer/SalesOutlet_Dim.csv\", index = False)\n",
    "Sales_fact.toPandas().to_csv(\"/dbfs/mnt/shop/gold-layer/Sales_fact.csv\", index = False)\n",
    "Customer_Dim.toPandas().to_csv(\"/dbfs/mnt/shop/gold-layer/Customer_Dim.csv\", index = False)\n",
    "Dates_Dim.toPandas().to_csv(\"/dbfs/mnt/shop/gold-layer/Dates_Dim.csv\", index = False)"
   ]
  }
 ],
 "metadata": {
  "application/vnd.databricks.v1+notebook": {
   "dashboards": [],
   "environmentMetadata": null,
   "language": "python",
   "notebookMetadata": {
    "mostRecentlyExecutedCommandWithImplicitDF": {
     "commandId": 1385494199652938,
     "dataframes": [
      "_sqldf"
     ]
    },
    "pythonIndentUnit": 4
   },
   "notebookName": "Silver To Gold",
   "widgets": {}
  }
 },
 "nbformat": 4,
 "nbformat_minor": 0
}
