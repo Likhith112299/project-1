{
 "cells": [
  {
   "cell_type": "code",
   "execution_count": 0,
   "metadata": {
    "application/vnd.databricks.v1+cell": {
     "cellMetadata": {
      "byteLimit": 2048000,
      "rowLimit": 10000
     },
     "inputWidgets": {},
     "nuid": "",
     "showTitle": true,
     "title": "config"
    }
   },
   "outputs": [
    {
     "output_type": "stream",
     "name": "stdout",
     "output_type": "stream",
     "text": [
      "/mnt/shop has been unmounted.\n"
     ]
    },
    {
     "output_type": "execute_result",
     "data": {
      "text/plain": [
       "True"
      ]
     },
     "execution_count": 27,
     "metadata": {},
     "output_type": "execute_result"
    }
   ],
   "source": [
    "configs = {\"fs.azure.account.auth.type\": \"OAuth\",\n",
    "\"fs.azure.account.oauth.provider.type\": \"org.apache.hadoop.fs.azurebfs.oauth2.ClientCredsTokenProvider\",\n",
    "\"fs.azure.account.oauth2.client.id\": \"\",\n",
    "\"fs.azure.account.oauth2.client.secret\": '',\n",
    "\"fs.azure.account.oauth2.client.endpoint\": \"https://login.microsoftonline.com//oauth2/token\"}\n",
    "\n",
    "dbutils.fs.unmount(\"/mnt/shop\")\n",
    "dbutils.fs.mount(\n",
    "source = \"abfss://.dfs.core.windows.net\", # contrainer@storageacc\n",
    "mount_point = \"/mnt/shop\",\n",
    "extra_configs = configs)"
   ]
  },
  {
   "cell_type": "code",
   "execution_count": 0,
   "metadata": {
    "application/vnd.databricks.v1+cell": {
     "cellMetadata": {
      "byteLimit": 2048000,
      "rowLimit": 10000
     },
     "inputWidgets": {},
     "nuid": "05fae1ea-2aba-485d-9766-ecd2f030ec05",
     "showTitle": false,
     "title": ""
    }
   },
   "outputs": [
    {
     "output_type": "display_data",
     "data": {
      "text/html": [
       "<style scoped>\n",
       "  .table-result-container {\n",
       "    max-height: 300px;\n",
       "    overflow: auto;\n",
       "  }\n",
       "  table, th, td {\n",
       "    border: 1px solid black;\n",
       "    border-collapse: collapse;\n",
       "  }\n",
       "  th, td {\n",
       "    padding: 5px;\n",
       "  }\n",
       "  th {\n",
       "    text-align: left;\n",
       "  }\n",
       "</style><div class='table-result-container'><table class='table-result'><thead style='background-color: white'><tr><th>path</th><th>name</th><th>size</th><th>modificationTime</th></tr></thead><tbody><tr><td>dbfs:/mnt/shop/gold-layer/</td><td>gold-layer/</td><td>0</td><td>1727800356000</td></tr><tr><td>dbfs:/mnt/shop/raw-data/</td><td>raw-data/</td><td>0</td><td>1727792291000</td></tr><tr><td>dbfs:/mnt/shop/silver-layer/</td><td>silver-layer/</td><td>0</td><td>1727799947000</td></tr></tbody></table></div>"
      ]
     },
     "metadata": {
      "application/vnd.databricks.v1+output": {
       "addedWidgets": {},
       "aggData": [],
       "aggError": "",
       "aggOverflow": false,
       "aggSchema": [],
       "aggSeriesLimitReached": false,
       "aggType": "",
       "arguments": {},
       "columnCustomDisplayInfos": {},
       "data": [
        [
         "dbfs:/mnt/shop/gold-layer/",
         "gold-layer/",
         0,
         1727800356000
        ],
        [
         "dbfs:/mnt/shop/raw-data/",
         "raw-data/",
         0,
         1727792291000
        ],
        [
         "dbfs:/mnt/shop/silver-layer/",
         "silver-layer/",
         0,
         1727799947000
        ]
       ],
       "datasetInfos": [],
       "dbfsResultPath": null,
       "isJsonSchema": true,
       "metadata": {
        "isDbfsCommandResult": false
       },
       "overflow": false,
       "plotOptions": {
        "customPlotOptions": {},
        "displayType": "table",
        "pivotAggregation": null,
        "pivotColumns": null,
        "xColumns": null,
        "yColumns": null
       },
       "removedWidgets": [],
       "schema": [
        {
         "metadata": "{}",
         "name": "path",
         "type": "\"string\""
        },
        {
         "metadata": "{}",
         "name": "name",
         "type": "\"string\""
        },
        {
         "metadata": "{}",
         "name": "size",
         "type": "\"long\""
        },
        {
         "metadata": "{}",
         "name": "modificationTime",
         "type": "\"long\""
        }
       ],
       "type": "table"
      }
     },
     "output_type": "display_data"
    }
   ],
   "source": [
    "%fs\n",
    "ls \"/mnt/shop\""
   ]
  },
  {
   "cell_type": "code",
   "execution_count": 0,
   "metadata": {
    "application/vnd.databricks.v1+cell": {
     "cellMetadata": {
      "byteLimit": 2048000,
      "rowLimit": 10000
     },
     "inputWidgets": {},
     "nuid": "1bed1732-4a77-4cda-9a8e-5b2fc0c60156",
     "showTitle": false,
     "title": ""
    }
   },
   "outputs": [],
   "source": [
    "Customer = spark.read.format(\"csv\").option(\"header\", \"true\").option(\"inferSchema\", \"true\").load(\"/mnt/shop/bronze-layer/Customer.csv\")\n",
    "Generations = spark.read.format(\"csv\").option(\"header\", \"true\").option(\"inferSchema\", \"true\").load(\"/mnt/shop/bronze-layer/Generations.csv\")\n",
    "Inventory = spark.read.format(\"csv\").option(\"header\", \"true\").option(\"inferSchema\", \"true\").load(\"/mnt/shop/bronze-layer/Inventory.csv\")\n",
    "Product = spark.read.format(\"csv\").option(\"header\", \"true\").option(\"inferSchema\", \"true\").load(\"/mnt/shop/bronze-layer/Product.csv\")\n",
    "SalesOrders = spark.read.format(\"csv\").option(\"header\", \"true\").option(\"inferSchema\", \"true\").load(\"/mnt/shop/bronze-layer/SalesOrders.csv\")\n",
    "SalesOutlet = spark.read.format(\"csv\").option(\"header\", \"true\").option(\"inferSchema\", \"true\").load(\"/mnt/shop/bronze-layer/SalesOutlet.csv\")\n",
    "SalesTarget = spark.read.format(\"csv\").option(\"header\", \"true\").option(\"inferSchema\", \"true\").load(\"/mnt/shop/bronze-layer/SalesTarget.csv\")\n",
    "staff = spark.read.format(\"csv\").option(\"header\", \"true\").option(\"inferSchema\", \"true\").load(\"/mnt/shop/bronze-layer/staff.csv\")"
   ]
  },
  {
   "cell_type": "code",
   "execution_count": 0,
   "metadata": {
    "application/vnd.databricks.v1+cell": {
     "cellMetadata": {
      "byteLimit": 2048000,
      "rowLimit": 10000
     },
     "inputWidgets": {},
     "nuid": "232f1fc3-4d60-4ec7-b98c-c9d1532a1230",
     "showTitle": false,
     "title": ""
    }
   },
   "outputs": [
    {
     "output_type": "stream",
     "name": "stdout",
     "output_type": "stream",
     "text": [
      "root\n |-- customer_id: integer (nullable = true)\n |-- home_store: integer (nullable = true)\n |-- first_name: string (nullable = true)\n |-- email: string (nullable = true)\n |-- customer_since: date (nullable = true)\n |-- loyalty_cardNumber: string (nullable = true)\n |-- birthdate: date (nullable = true)\n |-- gender: string (nullable = true)\n |-- birth_year: integer (nullable = true)\n\nroot\n |-- birth_year: integer (nullable = true)\n |-- generation: string (nullable = true)\n\nroot\n |-- outlet_id: integer (nullable = true)\n |-- transaction_date: date (nullable = true)\n |-- product_id: integer (nullable = true)\n |-- start_of_day: integer (nullable = true)\n |-- quantity_sold: integer (nullable = true)\n |-- waste: integer (nullable = true)\n |-- waste_percentage: string (nullable = true)\n\nroot\n |-- product_id: integer (nullable = true)\n |-- category: string (nullable = true)\n |-- sub_category: string (nullable = true)\n |-- product_type: string (nullable = true)\n |-- name: string (nullable = true)\n |-- product_description: string (nullable = true)\n |-- product_weight: string (nullable = true)\n |-- wholesale_price: double (nullable = true)\n |-- retail_price: double (nullable = true)\n |-- tax_exempt_yn: boolean (nullable = true)\n |-- promo_yn: boolean (nullable = true)\n |-- new_product_yn: boolean (nullable = true)\n\nroot\n |-- transaction_id: integer (nullable = true)\n |-- transaction_date: date (nullable = true)\n |-- transaction_time: timestamp (nullable = true)\n |-- outlet_id: integer (nullable = true)\n |-- staff_id: integer (nullable = true)\n |-- customer_id: integer (nullable = true)\n |-- instore_yn: boolean (nullable = true)\n |-- product_id: integer (nullable = true)\n |-- quantity: integer (nullable = true)\n |-- unit_price: double (nullable = true)\n\nroot\n |-- outlet_id: integer (nullable = true)\n |-- outlet_type: string (nullable = true)\n |-- store_area_feet: integer (nullable = true)\n |-- store_address: string (nullable = true)\n |-- store_city: string (nullable = true)\n |-- store_state_province: string (nullable = true)\n |-- store_telephone: string (nullable = true)\n |-- store_postal_code: integer (nullable = true)\n |-- store_longitude: double (nullable = true)\n |-- store_latitude: double (nullable = true)\n |-- manager: double (nullable = true)\n |-- Neighorhood: string (nullable = true)\n\nroot\n |-- outlet_id: integer (nullable = true)\n |-- year_month: string (nullable = true)\n |-- beans_goal: integer (nullable = true)\n |-- beverage_goal: integer (nullable = true)\n |-- food_goal: integer (nullable = true)\n |-- merchandise_goal: integer (nullable = true)\n |-- total_goal: integer (nullable = true)\n\nroot\n |-- staff_id: integer (nullable = true)\n |-- first_name: string (nullable = true)\n |-- last_name: string (nullable = true)\n |-- position: string (nullable = true)\n |-- start_date: date (nullable = true)\n |-- location: string (nullable = true)\n\n"
     ]
    }
   ],
   "source": [
    "Customer.printSchema()\n",
    "Generations.printSchema()\n",
    "Inventory.printSchema()\n",
    "Product.printSchema()\n",
    "SalesOrders.printSchema()\n",
    "SalesOutlet.printSchema()\n",
    "SalesTarget.printSchema()\n",
    "staff.printSchema()"
   ]
  },
  {
   "cell_type": "code",
   "execution_count": 0,
   "metadata": {
    "application/vnd.databricks.v1+cell": {
     "cellMetadata": {
      "byteLimit": 2048000,
      "rowLimit": 10000
     },
     "inputWidgets": {},
     "nuid": "e3d39883-b44f-437a-8221-e6b8e29c9568",
     "showTitle": true,
     "title": "Handel Nulls"
    }
   },
   "outputs": [],
   "source": [
    "# Clean Customer DataFrame\n",
    "Customer = Customer.dropna(subset=[\"first_name\", \"email\"]) \\\n",
    "                                .fillna({\"home_store\": 3, \n",
    "                                          \"loyalty_cardNumber\": \"Unknown\", \n",
    "                                          \"birthdate\": \"2000-01-01\", \n",
    "                                          \"gender\": \"Unknown\", \n",
    "                                          \"birth_year\": 2000})\n",
    "\n",
    "# Clean Generations DataFrame\n",
    "Generations = Generations.dropna(subset=[\"birth_year\", \"generation\"])\n",
    "\n",
    "# Clean Inventory DataFrame\n",
    "Inventory = Inventory.dropna(subset=[\"outlet_id\", \"transaction_date\", \"product_id\"]) \\\n",
    "                                  .fillna({\"start_of_day\": 0, \n",
    "                                            \"quantity_sold\": 0, \n",
    "                                            \"waste\": 0, \n",
    "                                            \"waste_percentage\": \"0%\"})\n",
    "\n",
    "# Clean Product DataFrame\n",
    "Product = Product.dropna(subset=[\"name\",\"category\",\"sub_category\"]) \\\n",
    "                             .fillna({\"product_description\": \"Unknown\", \n",
    "                                       \"product_weight\": \"0\", \n",
    "                                       \"wholesale_price\": 0.0, \n",
    "                                       \"retail_price\": 0.0, \n",
    "                                       \"tax_exempt_yn\": False, \n",
    "                                       \"promo_yn\": False, \n",
    "                                       \"new_product_yn\": False})\n",
    "\n",
    "# Clean SalesOutlet DataFrame\n",
    "SalesOutlet = SalesOutlet.dropna(subset=[\"store_address\"])\n",
    "\n",
    "SalesOrders = SalesOrders.dropna(subset=[\"transaction_id\"])\n",
    "                                        \n",
    "\n",
    "# Clean SalesTarget DataFrame\n",
    "SalesTarget = SalesTarget.dropna(subset=[\"year_month\"]) \\\n",
    "                                        .fillna({\"beans_goal\": 0, \n",
    "                                                  \"beverage_goal\": 0, \n",
    "                                                  \"food_goal\": 0, \n",
    "                                                  \"merchandise_goal\": 0, \n",
    "                                                  \"total_goal\": 0})\n",
    "\n",
    "# Clean Staff DataFrame\n",
    "staff = staff.fillna({\"last_name\": \"Unknown\", \n",
    "                        \"position\": \"Unknown\", \n",
    "                        \"location\": \"Unknown\", \n",
    "                        \"start_date\": \"2018-01-01\"})\n",
    "                         "
   ]
  },
  {
   "cell_type": "code",
   "execution_count": 0,
   "metadata": {
    "application/vnd.databricks.v1+cell": {
     "cellMetadata": {
      "byteLimit": 2048000,
      "rowLimit": 10000
     },
     "inputWidgets": {},
     "nuid": "ffc54a9f-ba45-498e-8762-0bc96a7c713d",
     "showTitle": true,
     "title": "Handel Duplicates"
    }
   },
   "outputs": [],
   "source": [
    "# Drop duplicates from Customer DataFrame based on customer_id and email\n",
    "Customer = Customer.dropDuplicates([\"customer_id\", \"email\"])\n",
    "\n",
    "# Drop duplicates from Generations DataFrame based on birth_year\n",
    "Generations = Generations.dropDuplicates([\"birth_year\"])\n",
    "\n",
    "# Drop duplicates from Inventory DataFrame based on outlet_id, transaction_date, and product_id\n",
    "Inventory = Inventory.dropDuplicates([\"outlet_id\", \"transaction_date\", \"product_id\"])\n",
    "\n",
    "# Drop duplicates from Product DataFrame based on product_id\n",
    "Product = Product.dropDuplicates([\"product_id\"])\n",
    "\n",
    "# Drop duplicates from SalesOrders DataFrame based on transaction_id\n",
    "SalesOrders = SalesOrders.dropDuplicates([\"transaction_id\",\"transaction_time\"])\n",
    "\n",
    "# Drop duplicates from SalesOutlet DataFrame based on outlet_id\n",
    "SalesOutlet = SalesOutlet.dropDuplicates([\"outlet_id\"])\n",
    "\n",
    "# Drop duplicates from SalesTarget DataFrame based on outlet_id and year_month\n",
    "SalesTarget = SalesTarget.dropDuplicates([\"outlet_id\", \"year_month\"])\n",
    "\n",
    "# Drop duplicates from Staff DataFrame based on staff_id\n",
    "staff = staff.dropDuplicates([\"staff_id\"])"
   ]
  },
  {
   "cell_type": "code",
   "execution_count": 0,
   "metadata": {
    "application/vnd.databricks.v1+cell": {
     "cellMetadata": {
      "byteLimit": 2048000,
      "rowLimit": 10000
     },
     "inputWidgets": {},
     "nuid": "f4677ac6-7d24-4c5c-a6a7-32e73b79aa0f",
     "showTitle": true,
     "title": "load data into silver layer"
    }
   },
   "outputs": [],
   "source": [
    "Customer.toPandas().to_csv(\"/dbfs/mnt/shop/silver-layer/Customer.csv\", index = False)\n",
    "Generations.toPandas().to_csv(\"/dbfs/mnt/shop/silver-layer/Generations.csv\", index = False)\n",
    "Inventory.toPandas().to_csv(\"/dbfs/mnt/shop/silver-layer/Inventory.csv\", index = False)\n",
    "Product.toPandas().to_csv(\"/dbfs/mnt/shop/silver-layer/Product.csv\", index = False)\n",
    "SalesOrders.toPandas().to_csv(\"/dbfs/mnt/shop/silver-layer/SalesOrders.csv\", index = False)\n",
    "SalesOutlet.toPandas().to_csv(\"/dbfs/mnt/shop/silver-layer/SalesOutlet.csv\", index = False)\n",
    "SalesTarget.toPandas().to_csv(\"/dbfs/mnt/shop/silver-layer/SalesTarget.csv\", index = False)\n",
    "staff.toPandas().to_csv(\"/dbfs/mnt/shop/silver-layer/staff.csv\", index = False)"
   ]
  }
 ],
 "metadata": {
  "application/vnd.databricks.v1+notebook": {
   "dashboards": [],
   "environmentMetadata": null,
   "language": "python",
   "notebookMetadata": {
    "mostRecentlyExecutedCommandWithImplicitDF": {
     "commandId": 620258187698064,
     "dataframes": [
      "_sqldf"
     ]
    },
    "pythonIndentUnit": 4
   },
   "notebookName": "Bronze To Silver",
   "widgets": {}
  }
 },
 "nbformat": 4,
 "nbformat_minor": 0
}
